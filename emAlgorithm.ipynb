{
 "cells": [
  {
   "cell_type": "code",
   "execution_count": 20,
   "metadata": {},
   "outputs": [
    {
     "name": "stdout",
     "output_type": "stream",
     "text": [
      "[0.38408354 0.61051855 0.21872801 0.30384794 0.52318767 0.59809894\n",
      " 0.46587688 0.37369344 0.60670782 0.34086515]\n",
      "0.4425607940309296\n",
      "3\n"
     ]
    },
    {
     "data": {
      "image/png": "[encoded data removed]",
      "text/plain": [
       "<Figure size 432x288 with 1 Axes>"
      ]
     },
     "metadata": {
      "needs_background": "light"
     },
     "output_type": "display_data"
    }
   ],
   "source": [
    "import matplotlib as mpl\n",
    "import matplotlib.pyplot as plt\n",
    "import numpy as np\n",
    "import scipy.optimize as op\n",
    "\n",
    "TRUE_PARAMETER = 2/5 #真のパラメータ\n",
    "T = 10 #サンプリング数\n",
    "\n",
    "def main():\n",
    "    fig, ax = plt.subplots()\n",
    "    \n",
    "    ax = plotStatisticalModel(ax)\n",
    "    \n",
    "    # 真の分布からのデータのサンプリング\n",
    "    datas = np.random.normal(TRUE_PARAMETER, TRUE_PARAMETER*TRUE_PARAMETER, T)\n",
    "    print(datas)\n",
    "    # 算術平均の計算\n",
    "    r = sum(datas)/T\n",
    "    print(r)\n",
    "    \n",
    "    emAlgorithm(datas, r, 1)\n",
    "    \n",
    "    plt.show()\n",
    "    \n",
    "#  実数uに対し，平均u　分散u^2の正規分布の描画(横軸：平均，縦軸：分散の座標系)\n",
    "#　今回扱う統計モデル\n",
    "def plotStatisticalModel(ax):\n",
    "    x = np.linspace(-5, 5, 100)\n",
    "    y= x*x\n",
    "\n",
    "    ax.plot(x, y, linewidth=2.0)\n",
    "\n",
    "    ax.set(xlim=(-5, 5), xticks=np.arange(-5, 5), ylim=(0, 8), yticks=np.arange(1, 8))\n",
    "    ax.set_xlabel(\"mean\")\n",
    "    ax.set_ylabel(\"variance\")\n",
    "    \n",
    "    return ax\n",
    "\n",
    "def emAlgorithm(datas, mean, loop_N):\n",
    "    plist = []\n",
    "    qlist = []\n",
    "    \n",
    "    # 初期値\n",
    "    plist.append([1,1])\n",
    "    \n",
    "    for i in range(loop_N):\n",
    "        dis_model2datamfd = lambda s : np.sqrt((1/plist[i][1] - r/s)**2 + (-1/(2*(plist[i][1])**2) + 1/(2*s)))\n",
    "        n_sigma2 = \n",
    "\n",
    "if __name__ == \"__main__\":\n",
    "    main()"
   ]
  },
  {
   "cell_type": "code",
   "execution_count": null,
   "metadata": {},
   "outputs": [],
   "source": []
  }
 ],
 "metadata": {
  "kernelspec": {
   "display_name": "Python 3",
   "language": "python",
   "name": "python3"
  },
  "language_info": {
   "codemirror_mode": {
    "name": "ipython",
    "version": 3
   },
   "file_extension": ".py",
   "mimetype": "text/x-python",
   "name": "python",
   "nbconvert_exporter": "python",
   "pygments_lexer": "ipython3",
   "version": "3.7.6"
  }
 },
 "nbformat": 4,
 "nbformat_minor": 4
}
